{
 "cells": [
  {
   "cell_type": "markdown",
   "id": "970bf70e-6a12-4e77-b35d-c7fe72b3ecad",
   "metadata": {},
   "source": [
    "# ques1"
   ]
  },
  {
   "cell_type": "code",
   "execution_count": 1,
   "id": "e0a81737-55bc-467c-91b2-5c4f55051d69",
   "metadata": {},
   "outputs": [],
   "source": [
    "# write  programme to accept percentages from user and display the grade according to following criteria?"
   ]
  },
  {
   "cell_type": "code",
   "execution_count": 6,
   "id": "faa2463c-60fd-4d1f-bc06-bd207387a467",
   "metadata": {},
   "outputs": [
    {
     "name": "stdin",
     "output_type": "stream",
     "text": [
      "write percentages : 44\n"
     ]
    },
    {
     "name": "stdout",
     "output_type": "stream",
     "text": [
      "grade d\n"
     ]
    }
   ],
   "source": [
    "put = int(input(\"write percentages :\"))\n",
    "\n",
    "if 100>put>90 :\n",
    "    print ( \"grade a\")\n",
    "    \n",
    "elif 90>=put>80 :\n",
    "    print (\"grade b\")\n",
    "    \n",
    "elif 80>=put>=60 :\n",
    "    print (\"grade c\")\n",
    "    \n",
    "else:\n",
    "    print (\"grade d\")\n",
    "    "
   ]
  },
  {
   "cell_type": "markdown",
   "id": "b835fe0e-9c87-4e08-8150-85e989b81ebd",
   "metadata": {},
   "source": [
    "# ques2"
   ]
  },
  {
   "cell_type": "code",
   "execution_count": 7,
   "id": "4cd3be38-f0a0-4cc3-b3bd-9136be39a4f3",
   "metadata": {},
   "outputs": [],
   "source": [
    "# wite a programme to cept a cost price of a bike and display the road tax to be paid according to the following criteria"
   ]
  },
  {
   "cell_type": "code",
   "execution_count": 9,
   "id": "8edff9d2-41a7-4a62-9575-83999d05e00f",
   "metadata": {},
   "outputs": [
    {
     "name": "stdin",
     "output_type": "stream",
     "text": [
      "enter the cost price of the bike:  30000\n"
     ]
    },
    {
     "name": "stdout",
     "output_type": "stream",
     "text": [
      "5% road tax to be paid\n"
     ]
    }
   ],
   "source": [
    "cost_price = int(input(\"enter the cost price of the bike: \"))\n",
    "\n",
    "if cost_price>100000 :\n",
    "    print(\"15% road tax to be paid\")\n",
    "    \n",
    "elif 100000>cost_price>=50000 :\n",
    "    print(\"10% road tax to be paid\")\n",
    "    \n",
    "else:\n",
    "    print(\"5% road tax to be paid\")\n",
    "                 "
   ]
  },
  {
   "cell_type": "markdown",
   "id": "9315bb0f-af53-4c3e-b0b0-d789afb6251c",
   "metadata": {},
   "source": [
    "# ques3"
   ]
  },
  {
   "cell_type": "code",
   "execution_count": 11,
   "id": "729af14e-e78f-44ab-aaba-d231b0160319",
   "metadata": {},
   "outputs": [],
   "source": [
    "# accept any city from user and display monument from that city?"
   ]
  },
  {
   "cell_type": "code",
   "execution_count": 21,
   "id": "73729266-4a78-4934-b1b6-f8ac1dee86e0",
   "metadata": {},
   "outputs": [
    {
     "name": "stdin",
     "output_type": "stream",
     "text": [
      "Enter the city name:  agra\n"
     ]
    },
    {
     "name": "stdout",
     "output_type": "stream",
     "text": [
      "taj mahal\n"
     ]
    }
   ],
   "source": [
    "city = input(\"Enter the city name: \")\n",
    "\n",
    "if city == \"delhi\" :\n",
    "    print (\"redfort\")\n",
    "    \n",
    "elif city == \"agra\" :\n",
    "    print(\"taj mahal\")\n",
    "    \n",
    "elif city == \"jaipur\" :\n",
    "    print(\"jalmahal\")\n",
    "else:\n",
    "    print()"
   ]
  },
  {
   "cell_type": "code",
   "execution_count": 22,
   "id": "2b4fee05-c4fe-4811-bbfc-4d91897fe6fb",
   "metadata": {},
   "outputs": [],
   "source": [
    "# ques4"
   ]
  },
  {
   "cell_type": "code",
   "execution_count": 23,
   "id": "10ba2aa0-42dc-4f15-aef6-637b56d621f6",
   "metadata": {},
   "outputs": [],
   "source": [
    "# check how many times a given number can be divided by 3 before it is less than or equal to 10"
   ]
  },
  {
   "cell_type": "code",
   "execution_count": 26,
   "id": "a42988c5-eccb-4539-be48-b8a74a71e26a",
   "metadata": {},
   "outputs": [
    {
     "name": "stdout",
     "output_type": "stream",
     "text": [
      "the number can be divided by 3 1 times before it is less than or equal to 10.\n",
      "the number can be divided by 3 2 times before it is less than or equal to 10.\n",
      "the number can be divided by 3 3 times before it is less than or equal to 10.\n"
     ]
    }
   ],
   "source": [
    "n = 123\n",
    "count = 0\n",
    "while  n>10 :\n",
    "    n/=3\n",
    "    count+=1\n",
    "    print(\"the number can be divided by 3\",count,\"times before it is less than or equal to 10.\")"
   ]
  },
  {
   "cell_type": "markdown",
   "id": "289055c1-bf74-441b-a05a-9ccede012059",
   "metadata": {},
   "source": [
    "# ques4"
   ]
  },
  {
   "cell_type": "code",
   "execution_count": 27,
   "id": "15195bc8-3a9b-4a0b-ac4c-b05b21d7fcff",
   "metadata": {},
   "outputs": [],
   "source": [
    "# why and when to use while loop in python and give a detailed description with examples?"
   ]
  },
  {
   "cell_type": "markdown",
   "id": "a57f5fe0-c5ae-49a4-8621-c5184c8ce0c7",
   "metadata": {},
   "source": [
    "A while loop is a type of loop in Python that allows you to execute a block of code repeatedly while a certain condition is true. The basic syntax of a while loop is as follows:"
   ]
  },
  {
   "cell_type": "code",
   "execution_count": 30,
   "id": "d8a373e6-bef4-4024-9a17-e68c8ce566a8",
   "metadata": {},
   "outputs": [],
   "source": [
    "# while condition:\n",
    "#     code block\n",
    "# Here, \"condition\" is the expression that is checked before each iteration of the loop, and the code block is the set of statements that is executed repeatedly while the condition is true.\n",
    "\n",
    "# You can use a while loop in Python when you want to repeat a block of code multiple times, but you don't know ahead of time exactly how many times you'll need to repeat it. For example, you might use a while loop to repeatedly ask the user for input until they provide a valid input.\n",
    "\n"
   ]
  },
  {
   "cell_type": "code",
   "execution_count": 32,
   "id": "66c38c20-fa75-426f-b398-4f0f44930df9",
   "metadata": {},
   "outputs": [
    {
     "name": "stdout",
     "output_type": "stream",
     "text": [
      "1\n",
      "2\n",
      "4\n",
      "8\n",
      "16\n",
      "32\n",
      "64\n"
     ]
    }
   ],
   "source": [
    "n = 1\n",
    "while n < 100:\n",
    "    print(n)\n",
    "    n *= 2\n"
   ]
  },
  {
   "cell_type": "markdown",
   "id": "cf6d23b8-fe15-4d5c-97f7-62f217f4701b",
   "metadata": {},
   "source": [
    "# ques) use nested while loop to print 3 different pattern?\n",
    "\n",
    "a right triangle of stars"
   ]
  },
  {
   "cell_type": "code",
   "execution_count": 33,
   "id": "5ca1dff4-d7a4-4d2c-b8f3-e810427911a3",
   "metadata": {},
   "outputs": [
    {
     "name": "stdout",
     "output_type": "stream",
     "text": [
      "*\n",
      "**\n",
      "***\n",
      "****\n",
      "*****\n"
     ]
    }
   ],
   "source": [
    "n = 1\n",
    "while n <= 5:\n",
    "    i = 1\n",
    "    while i <= n:\n",
    "        print(\"*\", end=\"\")\n",
    "        i += 1\n",
    "    print()\n",
    "    n += 1\n"
   ]
  },
  {
   "cell_type": "markdown",
   "id": "96e91fc3-c44b-41f9-b37c-cbfcdbf8ec26",
   "metadata": {},
   "source": [
    "# reverse a while loop to display numbers from 10 to 1"
   ]
  },
  {
   "cell_type": "code",
   "execution_count": 34,
   "id": "fd780461-8d59-42cb-ae0b-f6614c840ccb",
   "metadata": {},
   "outputs": [
    {
     "name": "stdout",
     "output_type": "stream",
     "text": [
      "10\n",
      "9\n",
      "8\n",
      "7\n",
      "6\n",
      "5\n",
      "4\n",
      "3\n",
      "2\n",
      "1\n"
     ]
    }
   ],
   "source": [
    "n = 10\n",
    "while n >= 1:\n",
    "    print(n)\n",
    "    n -= 1\n"
   ]
  },
  {
   "cell_type": "code",
   "execution_count": null,
   "id": "26a7a600-5c1e-41fb-b58f-b726956e938c",
   "metadata": {},
   "outputs": [],
   "source": []
  }
 ],
 "metadata": {
  "kernelspec": {
   "display_name": "Python 3 (ipykernel)",
   "language": "python",
   "name": "python3"
  },
  "language_info": {
   "codemirror_mode": {
    "name": "ipython",
    "version": 3
   },
   "file_extension": ".py",
   "mimetype": "text/x-python",
   "name": "python",
   "nbconvert_exporter": "python",
   "pygments_lexer": "ipython3",
   "version": "3.10.8"
  }
 },
 "nbformat": 4,
 "nbformat_minor": 5
}
